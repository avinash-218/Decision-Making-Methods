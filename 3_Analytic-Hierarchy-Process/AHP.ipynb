{
 "cells": [
  {
   "cell_type": "markdown",
   "id": "817279f5",
   "metadata": {},
   "source": [
    "# Import Libraries"
   ]
  },
  {
   "cell_type": "code",
   "execution_count": 1,
   "id": "d4b585c2",
   "metadata": {},
   "outputs": [],
   "source": [
    "import pandas as pd\n",
    "import numpy as np\n",
    "from scipy import stats"
   ]
  },
  {
   "cell_type": "markdown",
   "id": "fd45957f",
   "metadata": {},
   "source": [
    "# Class AHP"
   ]
  },
  {
   "cell_type": "code",
   "execution_count": 2,
   "id": "cdd72265",
   "metadata": {},
   "outputs": [],
   "source": [
    "class AHP:\n",
    "    def __init__(self, pair_comp_matrix):#constructor\n",
    "        self.data = pair_comp_matrix\n",
    "        self.pair_comp_matrix = pair_comp_matrix\n",
    "        self.n = np.shape(self.pair_comp_matrix)[0]\n",
    "        self.geometric_mean = None\n",
    "        self.sum_geom_mean = None\n",
    "        self.weights = None\n",
    "        self.matrix_a3 = None\n",
    "        self.matrix_a4 = None\n",
    "        self.average_lambda_max = None\n",
    "        self.consistency_index = None\n",
    "        self.random_index = [None, 0, 0, 0.58, 0.90, 1.12, 1.24, 1.32, 1.41, 1.45, 1.49]\n",
    "        \n",
    "    def calc_gemetric_mean(self):#calculate geometric mean\n",
    "        self.geometric_mean = stats.gmean(self.pair_comp_matrix.iloc[:,1:].astype('float'), axis=1)\n",
    "        print(\"\\nGeometric Mean :\", self.geometric_mean)\n",
    "        self.sum_geom_mean = np.sum(self.geometric_mean)\n",
    "        print(\"\\nSum of Geometric Mean:\", self.sum_geom_mean)\n",
    "        \n",
    "    def calc_weights(self):#calculate weights\n",
    "        self.weights = self.geometric_mean / self.sum_geom_mean\n",
    "        print(\"\\nWeights :\", self.weights)\n",
    "        \n",
    "    def calc_A3(self):#calc A3 matrix\n",
    "        self.matrix_a3 = np.matmul(self.pair_comp_matrix.iloc[:,1:], self.weights)\n",
    "        print(\"\\nA3 Matrix :\\n\", self.matrix_a3, sep='')\n",
    "        \n",
    "    def calc_A4(self):#calc A3 matrix\n",
    "        self.matrix_a4 = self.matrix_a3 / self.weights\n",
    "        print(\"\\nA4 Matrix :\\n\", self.matrix_a4, sep='')\n",
    "        \n",
    "    def calc_consistency_index(self):#calc consistency index\n",
    "        self.average_lambda_max = np.mean(self.matrix_a4)\n",
    "        print(\"\\nAverage Lambda Max :\", self.average_lambda_max)\n",
    "        \n",
    "        self.consistency_index = (self.average_lambda_max-self.n)/(self.n-1)\n",
    "        print(\"\\nConsistency Index :\", self.consistency_index)\n",
    "        \n",
    "    def calc_consistency_ratio(self):#calc consistency ratio\n",
    "        self.consistency_ratio = self.consistency_index / self.random_index[self.n]\n",
    "        print(\"\\nConsistency Ratio :\", self.consistency_ratio)\n",
    "        \n",
    "        if(self.consistency_ratio < 0.1):\n",
    "            print(\"\\nConsistent Pairwise Comparision Matrix\")\n",
    "        else:\n",
    "            print(\"\\nInconsistent Pairwise Comparision Matrix\")\n",
    "            \n",
    "    def run_all(self):#run all method\n",
    "        self.calc_gemetric_mean()\n",
    "        self.calc_weights()\n",
    "        self.calc_A3()\n",
    "        self.calc_A4()\n",
    "        self.calc_consistency_index()\n",
    "        self.calc_consistency_ratio()"
   ]
  },
  {
   "cell_type": "markdown",
   "id": "674d9a38",
   "metadata": {},
   "source": [
    "# Import Pair-Wise Comparision Matrix (A1)"
   ]
  },
  {
   "cell_type": "code",
   "execution_count": 3,
   "id": "3d0f8e49",
   "metadata": {},
   "outputs": [
    {
     "data": {
      "text/html": [
       "<div>\n",
       "<style scoped>\n",
       "    .dataframe tbody tr th:only-of-type {\n",
       "        vertical-align: middle;\n",
       "    }\n",
       "\n",
       "    .dataframe tbody tr th {\n",
       "        vertical-align: top;\n",
       "    }\n",
       "\n",
       "    .dataframe thead th {\n",
       "        text-align: right;\n",
       "    }\n",
       "</style>\n",
       "<table border=\"1\" class=\"dataframe\">\n",
       "  <thead>\n",
       "    <tr style=\"text-align: right;\">\n",
       "      <th></th>\n",
       "      <th>Criterias</th>\n",
       "      <th>Cost</th>\n",
       "      <th>Storage</th>\n",
       "      <th>Battery Life</th>\n",
       "      <th>Camera Resolution</th>\n",
       "    </tr>\n",
       "  </thead>\n",
       "  <tbody>\n",
       "    <tr>\n",
       "      <th>0</th>\n",
       "      <td>Cost</td>\n",
       "      <td>1.000000</td>\n",
       "      <td>5.000000</td>\n",
       "      <td>7.000000</td>\n",
       "      <td>7</td>\n",
       "    </tr>\n",
       "    <tr>\n",
       "      <th>1</th>\n",
       "      <td>Storage</td>\n",
       "      <td>0.200000</td>\n",
       "      <td>1.000000</td>\n",
       "      <td>5.000000</td>\n",
       "      <td>3</td>\n",
       "    </tr>\n",
       "    <tr>\n",
       "      <th>2</th>\n",
       "      <td>Battery Life</td>\n",
       "      <td>0.142857</td>\n",
       "      <td>0.200000</td>\n",
       "      <td>1.000000</td>\n",
       "      <td>7</td>\n",
       "    </tr>\n",
       "    <tr>\n",
       "      <th>3</th>\n",
       "      <td>Camera Resolution</td>\n",
       "      <td>0.142857</td>\n",
       "      <td>0.333333</td>\n",
       "      <td>0.142857</td>\n",
       "      <td>1</td>\n",
       "    </tr>\n",
       "  </tbody>\n",
       "</table>\n",
       "</div>"
      ],
      "text/plain": [
       "           Criterias      Cost   Storage  Battery Life  Camera Resolution\n",
       "0               Cost  1.000000  5.000000      7.000000                  7\n",
       "1            Storage  0.200000  1.000000      5.000000                  3\n",
       "2       Battery Life  0.142857  0.200000      1.000000                  7\n",
       "3  Camera Resolution  0.142857  0.333333      0.142857                  1"
      ]
     },
     "execution_count": 3,
     "metadata": {},
     "output_type": "execute_result"
    }
   ],
   "source": [
    "pair_comp_matrix = pd.read_excel('AHP.xlsx')\n",
    "pair_comp_matrix"
   ]
  },
  {
   "cell_type": "markdown",
   "id": "a2d73e05",
   "metadata": {},
   "source": [
    "# Create Object And Run All"
   ]
  },
  {
   "cell_type": "code",
   "execution_count": 4,
   "id": "eaa6728a",
   "metadata": {},
   "outputs": [
    {
     "name": "stdout",
     "output_type": "stream",
     "text": [
      "\n",
      "Geometric Mean : [3.956321   1.31607401 0.6687403  0.28719089]\n",
      "\n",
      "Sum of Geometric Mean: 6.228326210844705\n",
      "\n",
      "Weights : [0.63521416 0.21130461 0.10737079 0.04611045]\n",
      "\n",
      "A3 Matrix :\n",
      "0    2.766106\n",
      "1    1.013533\n",
      "2    0.563150\n",
      "3    0.222629\n",
      "dtype: float64\n",
      "\n",
      "A4 Matrix :\n",
      "0    4.354604\n",
      "1    4.796548\n",
      "2    5.244906\n",
      "3    4.828166\n",
      "dtype: float64\n",
      "\n",
      "Average Lambda Max : 4.806055918764677\n",
      "\n",
      "Consistency Index : 0.26868530625489245\n",
      "\n",
      "Consistency Ratio : 0.29853922917210274\n",
      "\n",
      "Inconsistent Pairwise Comparision Matrix\n"
     ]
    }
   ],
   "source": [
    "ahp_object = AHP(pair_comp_matrix)\n",
    "ahp_object.run_all()"
   ]
  }
 ],
 "metadata": {
  "kernelspec": {
   "display_name": "Python 3",
   "language": "python",
   "name": "python3"
  },
  "language_info": {
   "codemirror_mode": {
    "name": "ipython",
    "version": 3
   },
   "file_extension": ".py",
   "mimetype": "text/x-python",
   "name": "python",
   "nbconvert_exporter": "python",
   "pygments_lexer": "ipython3",
   "version": "3.8.8"
  }
 },
 "nbformat": 4,
 "nbformat_minor": 5
}
