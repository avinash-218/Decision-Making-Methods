{
 "cells": [
  {
   "cell_type": "markdown",
   "id": "c15879de",
   "metadata": {},
   "source": [
    "# Import Libraries"
   ]
  },
  {
   "cell_type": "code",
   "execution_count": 1,
   "id": "e6c1a27b",
   "metadata": {},
   "outputs": [],
   "source": [
    "import pandas as pd\n",
    "import numpy as np\n",
    "from scipy import stats"
   ]
  },
  {
   "cell_type": "markdown",
   "id": "616b4796",
   "metadata": {},
   "source": [
    "# Class Fuzzy AHP"
   ]
  },
  {
   "cell_type": "code",
   "execution_count": 2,
   "id": "a51f5919",
   "metadata": {},
   "outputs": [],
   "source": [
    "class Fuzzy_AHP:\n",
    "    def __init__(self, data):#constructor\n",
    "        self.data = data\n",
    "        self.fuzzifier = {1:(1,1,1), 2:(1,2,3), 3:(2,3,4), 4:(3,4,5), 5:(4,5,6), 6:(5,6,7), 7:(6,7,8), 8:(7,8,9), 9:(9,9,9),\n",
    "            1/2:(1/3,1/2,1), 1/3:(1/4,1/3,1/2), 1/4:(1/5,1/4,1/3), 1/5:(1/6,1/5,1/4),\n",
    "            1/6:(1/7,1/6,1/5), 1/7:(1/8,1/7,1/6), 1/8:(1/9,1/8,1/7), 1/9:(1/9,1/9,1/9)}\n",
    "        self.geometric_mean = []\n",
    "        self.geom_sum = None\n",
    "        self.fuzzy_weights = None\n",
    "        self.weights = None\n",
    "    \n",
    "    def fuzzification(self):#fuzzify\n",
    "        for i in self.data.columns[1:]:\n",
    "            self.data[i] = self.data[i].map(self.fuzzifier)\n",
    "            \n",
    "        display(self.data)\n",
    "            \n",
    "    def calc_geometric_mean(self):#calc geometric mean\n",
    "        for i in range(len(self.data)):\n",
    "            a,b,c=1,1,1\n",
    "            for i in (self.data.iloc[i,1:]):\n",
    "                a*=i[0]\n",
    "                b*=i[1]\n",
    "                c*=i[2]\n",
    "            self.geometric_mean.append((a**0.25,b**0.25,c**0.25))       \n",
    "        print('\\nGeometric Mean :\\n', self.geometric_mean)\n",
    "        \n",
    "        self.geom_sum = np.flip(1/np.sum(np.array(self.geometric_mean), axis=0))\n",
    "        print('\\nGeometric Mean Sum :', self.geom_sum)\n",
    "        \n",
    "    def calc_fuzzy_weights(self):#calc fuzzy weights\n",
    "        self.fuzzy_weights = self.geometric_mean * self.geom_sum\n",
    "        print('\\nFuzzy Weights :\\n', self.fuzzy_weights)\n",
    "        \n",
    "    def defuzzification(self):#defuzzify weights\n",
    "        self.weights = np.average(self.fuzzy_weights, axis=1)\n",
    "        self.weights = self.weights / np.sum(self.weights)\n",
    "        print('\\nDefuzzified Weights :', self.weights)\n",
    "        \n",
    "    def RUN_ALL(self):#run all methods\n",
    "        self.fuzzification()\n",
    "        self.calc_geometric_mean()\n",
    "        self.calc_fuzzy_weights()\n",
    "        self.defuzzification()"
   ]
  },
  {
   "cell_type": "markdown",
   "id": "2098ba6d",
   "metadata": {},
   "source": [
    "# Import Data"
   ]
  },
  {
   "cell_type": "code",
   "execution_count": 3,
   "id": "ca8156ee",
   "metadata": {},
   "outputs": [
    {
     "data": {
      "text/html": [
       "<div>\n",
       "<style scoped>\n",
       "    .dataframe tbody tr th:only-of-type {\n",
       "        vertical-align: middle;\n",
       "    }\n",
       "\n",
       "    .dataframe tbody tr th {\n",
       "        vertical-align: top;\n",
       "    }\n",
       "\n",
       "    .dataframe thead th {\n",
       "        text-align: right;\n",
       "    }\n",
       "</style>\n",
       "<table border=\"1\" class=\"dataframe\">\n",
       "  <thead>\n",
       "    <tr style=\"text-align: right;\">\n",
       "      <th></th>\n",
       "      <th>Criterias</th>\n",
       "      <th>Cost</th>\n",
       "      <th>Storage</th>\n",
       "      <th>Camera</th>\n",
       "      <th>Looks</th>\n",
       "    </tr>\n",
       "  </thead>\n",
       "  <tbody>\n",
       "    <tr>\n",
       "      <th>0</th>\n",
       "      <td>Cost</td>\n",
       "      <td>1.000000</td>\n",
       "      <td>3.000000</td>\n",
       "      <td>5.0</td>\n",
       "      <td>7</td>\n",
       "    </tr>\n",
       "    <tr>\n",
       "      <th>1</th>\n",
       "      <td>Storage</td>\n",
       "      <td>0.333333</td>\n",
       "      <td>1.000000</td>\n",
       "      <td>4.0</td>\n",
       "      <td>6</td>\n",
       "    </tr>\n",
       "    <tr>\n",
       "      <th>2</th>\n",
       "      <td>Battery Life</td>\n",
       "      <td>0.200000</td>\n",
       "      <td>0.250000</td>\n",
       "      <td>1.0</td>\n",
       "      <td>5</td>\n",
       "    </tr>\n",
       "    <tr>\n",
       "      <th>3</th>\n",
       "      <td>Camera Resolution</td>\n",
       "      <td>0.142857</td>\n",
       "      <td>0.166667</td>\n",
       "      <td>0.2</td>\n",
       "      <td>1</td>\n",
       "    </tr>\n",
       "  </tbody>\n",
       "</table>\n",
       "</div>"
      ],
      "text/plain": [
       "           Criterias      Cost   Storage  Camera  Looks\n",
       "0               Cost  1.000000  3.000000     5.0      7\n",
       "1            Storage  0.333333  1.000000     4.0      6\n",
       "2       Battery Life  0.200000  0.250000     1.0      5\n",
       "3  Camera Resolution  0.142857  0.166667     0.2      1"
      ]
     },
     "execution_count": 3,
     "metadata": {},
     "output_type": "execute_result"
    }
   ],
   "source": [
    "data = pd.read_excel('Fuzzy_AHP_1.xlsx')\n",
    "#data = pd.read_excel('Fuzzy_AHP_2.xlsx')\n",
    "data"
   ]
  },
  {
   "cell_type": "markdown",
   "id": "872216f3",
   "metadata": {},
   "source": [
    "# Create Object"
   ]
  },
  {
   "cell_type": "code",
   "execution_count": 4,
   "id": "926e3334",
   "metadata": {},
   "outputs": [
    {
     "data": {
      "text/html": [
       "<div>\n",
       "<style scoped>\n",
       "    .dataframe tbody tr th:only-of-type {\n",
       "        vertical-align: middle;\n",
       "    }\n",
       "\n",
       "    .dataframe tbody tr th {\n",
       "        vertical-align: top;\n",
       "    }\n",
       "\n",
       "    .dataframe thead th {\n",
       "        text-align: right;\n",
       "    }\n",
       "</style>\n",
       "<table border=\"1\" class=\"dataframe\">\n",
       "  <thead>\n",
       "    <tr style=\"text-align: right;\">\n",
       "      <th></th>\n",
       "      <th>Criterias</th>\n",
       "      <th>Cost</th>\n",
       "      <th>Storage</th>\n",
       "      <th>Camera</th>\n",
       "      <th>Looks</th>\n",
       "    </tr>\n",
       "  </thead>\n",
       "  <tbody>\n",
       "    <tr>\n",
       "      <th>0</th>\n",
       "      <td>Cost</td>\n",
       "      <td>(1, 1, 1)</td>\n",
       "      <td>(2, 3, 4)</td>\n",
       "      <td>(4, 5, 6)</td>\n",
       "      <td>(6, 7, 8)</td>\n",
       "    </tr>\n",
       "    <tr>\n",
       "      <th>1</th>\n",
       "      <td>Storage</td>\n",
       "      <td>(0.25, 0.3333333333333333, 0.5)</td>\n",
       "      <td>(1, 1, 1)</td>\n",
       "      <td>(3, 4, 5)</td>\n",
       "      <td>(5, 6, 7)</td>\n",
       "    </tr>\n",
       "    <tr>\n",
       "      <th>2</th>\n",
       "      <td>Battery Life</td>\n",
       "      <td>(0.16666666666666666, 0.2, 0.25)</td>\n",
       "      <td>(0.2, 0.25, 0.3333333333333333)</td>\n",
       "      <td>(1, 1, 1)</td>\n",
       "      <td>(4, 5, 6)</td>\n",
       "    </tr>\n",
       "    <tr>\n",
       "      <th>3</th>\n",
       "      <td>Camera Resolution</td>\n",
       "      <td>(0.125, 0.14285714285714285, 0.16666666666666666)</td>\n",
       "      <td>(0.14285714285714285, 0.16666666666666666, 0.2)</td>\n",
       "      <td>(0.16666666666666666, 0.2, 0.25)</td>\n",
       "      <td>(1, 1, 1)</td>\n",
       "    </tr>\n",
       "  </tbody>\n",
       "</table>\n",
       "</div>"
      ],
      "text/plain": [
       "           Criterias                                               Cost  \\\n",
       "0               Cost                                          (1, 1, 1)   \n",
       "1            Storage                    (0.25, 0.3333333333333333, 0.5)   \n",
       "2       Battery Life                   (0.16666666666666666, 0.2, 0.25)   \n",
       "3  Camera Resolution  (0.125, 0.14285714285714285, 0.16666666666666666)   \n",
       "\n",
       "                                           Storage  \\\n",
       "0                                        (2, 3, 4)   \n",
       "1                                        (1, 1, 1)   \n",
       "2                  (0.2, 0.25, 0.3333333333333333)   \n",
       "3  (0.14285714285714285, 0.16666666666666666, 0.2)   \n",
       "\n",
       "                             Camera      Looks  \n",
       "0                         (4, 5, 6)  (6, 7, 8)  \n",
       "1                         (3, 4, 5)  (5, 6, 7)  \n",
       "2                         (1, 1, 1)  (4, 5, 6)  \n",
       "3  (0.16666666666666666, 0.2, 0.25)  (1, 1, 1)  "
      ]
     },
     "metadata": {},
     "output_type": "display_data"
    },
    {
     "name": "stdout",
     "output_type": "stream",
     "text": [
      "\n",
      "Geometric Mean :\n",
      " [(2.6321480259049848, 3.2010858729436795, 3.7224194364083982), (1.3915788418568702, 1.681792830507429, 2.0453117446175235), (0.6042750794713536, 0.7071067811865476, 0.8408964152537145), (0.23356898886410005, 0.2626909894424158, 0.3021375397356768)]\n",
      "\n",
      "Geometric Mean Sum : [0.14470178 0.170862   0.20569483]\n",
      "\n",
      "Fuzzy Weights :\n",
      " [[0.3808765  0.54694393 0.76568243]\n",
      " [0.20136393 0.28735448 0.42071005]\n",
      " [0.08743968 0.12081768 0.17296804]\n",
      " [0.03379785 0.04488391 0.06214813]]\n",
      "\n",
      "Defuzzified Weights : [0.54192324 0.29101836 0.12199265 0.04506576]\n"
     ]
    }
   ],
   "source": [
    "fuzzy_ahp_object = Fuzzy_AHP(data)\n",
    "fuzzy_ahp_object.RUN_ALL()"
   ]
  }
 ],
 "metadata": {
  "kernelspec": {
   "display_name": "Python 3",
   "language": "python",
   "name": "python3"
  },
  "language_info": {
   "codemirror_mode": {
    "name": "ipython",
    "version": 3
   },
   "file_extension": ".py",
   "mimetype": "text/x-python",
   "name": "python",
   "nbconvert_exporter": "python",
   "pygments_lexer": "ipython3",
   "version": "3.8.8"
  }
 },
 "nbformat": 4,
 "nbformat_minor": 5
}
