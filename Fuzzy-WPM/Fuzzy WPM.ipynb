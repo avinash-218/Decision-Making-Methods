{
 "cells": [
  {
   "cell_type": "markdown",
   "id": "2d0eba73",
   "metadata": {},
   "source": [
    "# Import Libraries"
   ]
  },
  {
   "cell_type": "code",
   "execution_count": 1,
   "id": "e902461c",
   "metadata": {},
   "outputs": [],
   "source": [
    "import pandas as pd\n",
    "import numpy as np"
   ]
  },
  {
   "cell_type": "markdown",
   "id": "18924b2b",
   "metadata": {},
   "source": [
    "# Class Fuzzy WPM"
   ]
  },
  {
   "cell_type": "code",
   "execution_count": 2,
   "id": "7e704811",
   "metadata": {},
   "outputs": [],
   "source": [
    "class Fuzzy_WPM:\n",
    "    def __init__(self, data, weights):#constructor\n",
    "        self.data = data\n",
    "        self.fuzzifier = {1:(1,1,1), 2:(1,2,3), 3:(2,3,4), 4:(3,4,5), 5:(4,5,6), 6:(5,6,7), 7:(6,7,8), 8:(7,8,9), 9:(9,9,9),\n",
    "            1/2:(1/3,1/2,1), 1/3:(1/4,1/3,1/2), 1/4:(1/5,1/4,1/3), 1/5:(1/6,1/5,1/4),\n",
    "            1/6:(1/7,1/6,1/5), 1/7:(1/8,1/7,1/6), 1/8:(1/9,1/8,1/7), 1/9:(1/9,1/9,1/9)}\n",
    "        self.fuzzy_weights = []\n",
    "        self.weights = weights\n",
    "    \n",
    "    def fuzzification(self):#fuzzify input data\n",
    "        for i in self.data.columns[1:]:\n",
    "            self.data[i] = self.data[i].map(self.fuzzifier)\n",
    "\n",
    "        print('After Fuzzification of Data :\\n')\n",
    "        display(self.data)\n",
    "            \n",
    "    def apply_weights(self):#apply weights\n",
    "        temp = np.array(self.data.iloc[:,1:])\n",
    "        \n",
    "        for i in range(len(temp)):\n",
    "            p = []\n",
    "            for j in range(len(temp[i])):\n",
    "                p.append(temp[i][j]** self.weights[j])\n",
    "            self.fuzzy_weights.append(np.multiply.reduce(p))\n",
    "        print('Fuzzy Weights :\\n', self.fuzzy_weights)\n",
    "            \n",
    "    def defuzzification(self):#defuzzify weights\n",
    "        self.fuzzy_weights = pd.Series(np.mean(self.fuzzy_weights, axis=1))\n",
    "        print('\\nDefuzzified Weights :\\n', self.fuzzy_weights)\n",
    "        \n",
    "    def rank(self):#rank\n",
    "        print('Rank :\\n')\n",
    "        display(self.fuzzy_weights.rank(ascending=False))\n",
    "        \n",
    "    def RUN_ALL(self):#run all methods\n",
    "        self.fuzzification()\n",
    "        self.apply_weights()\n",
    "        self.defuzzification()\n",
    "        self.rank()"
   ]
  },
  {
   "cell_type": "markdown",
   "id": "1c733410",
   "metadata": {},
   "source": [
    "# Import Dataset"
   ]
  },
  {
   "cell_type": "code",
   "execution_count": 3,
   "id": "debe8c8a",
   "metadata": {},
   "outputs": [
    {
     "data": {
      "text/html": [
       "<div>\n",
       "<style scoped>\n",
       "    .dataframe tbody tr th:only-of-type {\n",
       "        vertical-align: middle;\n",
       "    }\n",
       "\n",
       "    .dataframe tbody tr th {\n",
       "        vertical-align: top;\n",
       "    }\n",
       "\n",
       "    .dataframe thead th {\n",
       "        text-align: right;\n",
       "    }\n",
       "</style>\n",
       "<table border=\"1\" class=\"dataframe\">\n",
       "  <thead>\n",
       "    <tr style=\"text-align: right;\">\n",
       "      <th></th>\n",
       "      <th>Criterias</th>\n",
       "      <th>C1</th>\n",
       "      <th>C2</th>\n",
       "      <th>C3</th>\n",
       "      <th>C4</th>\n",
       "    </tr>\n",
       "  </thead>\n",
       "  <tbody>\n",
       "    <tr>\n",
       "      <th>0</th>\n",
       "      <td>A1</td>\n",
       "      <td>4</td>\n",
       "      <td>6</td>\n",
       "      <td>6</td>\n",
       "      <td>3</td>\n",
       "    </tr>\n",
       "    <tr>\n",
       "      <th>1</th>\n",
       "      <td>A2</td>\n",
       "      <td>7</td>\n",
       "      <td>6</td>\n",
       "      <td>1</td>\n",
       "      <td>5</td>\n",
       "    </tr>\n",
       "    <tr>\n",
       "      <th>2</th>\n",
       "      <td>A3</td>\n",
       "      <td>5</td>\n",
       "      <td>4</td>\n",
       "      <td>8</td>\n",
       "      <td>7</td>\n",
       "    </tr>\n",
       "  </tbody>\n",
       "</table>\n",
       "</div>"
      ],
      "text/plain": [
       "  Criterias  C1  C2  C3  C4\n",
       "0        A1   4   6   6   3\n",
       "1        A2   7   6   1   5\n",
       "2        A3   5   4   8   7"
      ]
     },
     "execution_count": 3,
     "metadata": {},
     "output_type": "execute_result"
    }
   ],
   "source": [
    "data = pd.read_excel('Fuzzy_WPM.xlsx')\n",
    "data"
   ]
  },
  {
   "cell_type": "markdown",
   "id": "f3371394",
   "metadata": {},
   "source": [
    "# Weights"
   ]
  },
  {
   "cell_type": "code",
   "execution_count": 4,
   "id": "d37970fd",
   "metadata": {},
   "outputs": [
    {
     "data": {
      "text/plain": [
       "array([[0.13, 0.2 , 0.31],\n",
       "       [0.08, 0.15, 0.29],\n",
       "       [0.21, 0.4 , 0.56],\n",
       "       [0.17, 0.25, 0.38]])"
      ]
     },
     "execution_count": 4,
     "metadata": {},
     "output_type": "execute_result"
    }
   ],
   "source": [
    "weights = np.array([(0.13,0.20,0.31), (0.08,0.15,0.29), (0.21,0.4,0.56), (0.17,0.25,0.38)])\n",
    "weights"
   ]
  },
  {
   "cell_type": "markdown",
   "id": "8d61034d",
   "metadata": {},
   "source": [
    "# Create Object"
   ]
  },
  {
   "cell_type": "code",
   "execution_count": 5,
   "id": "294dd0cc",
   "metadata": {},
   "outputs": [
    {
     "name": "stdout",
     "output_type": "stream",
     "text": [
      "After Fuzzification of Data :\n",
      "\n"
     ]
    },
    {
     "data": {
      "text/html": [
       "<div>\n",
       "<style scoped>\n",
       "    .dataframe tbody tr th:only-of-type {\n",
       "        vertical-align: middle;\n",
       "    }\n",
       "\n",
       "    .dataframe tbody tr th {\n",
       "        vertical-align: top;\n",
       "    }\n",
       "\n",
       "    .dataframe thead th {\n",
       "        text-align: right;\n",
       "    }\n",
       "</style>\n",
       "<table border=\"1\" class=\"dataframe\">\n",
       "  <thead>\n",
       "    <tr style=\"text-align: right;\">\n",
       "      <th></th>\n",
       "      <th>Criterias</th>\n",
       "      <th>C1</th>\n",
       "      <th>C2</th>\n",
       "      <th>C3</th>\n",
       "      <th>C4</th>\n",
       "    </tr>\n",
       "  </thead>\n",
       "  <tbody>\n",
       "    <tr>\n",
       "      <th>0</th>\n",
       "      <td>A1</td>\n",
       "      <td>(3, 4, 5)</td>\n",
       "      <td>(5, 6, 7)</td>\n",
       "      <td>(5, 6, 7)</td>\n",
       "      <td>(2, 3, 4)</td>\n",
       "    </tr>\n",
       "    <tr>\n",
       "      <th>1</th>\n",
       "      <td>A2</td>\n",
       "      <td>(6, 7, 8)</td>\n",
       "      <td>(5, 6, 7)</td>\n",
       "      <td>(1, 1, 1)</td>\n",
       "      <td>(4, 5, 6)</td>\n",
       "    </tr>\n",
       "    <tr>\n",
       "      <th>2</th>\n",
       "      <td>A3</td>\n",
       "      <td>(4, 5, 6)</td>\n",
       "      <td>(3, 4, 5)</td>\n",
       "      <td>(7, 8, 9)</td>\n",
       "      <td>(6, 7, 8)</td>\n",
       "    </tr>\n",
       "  </tbody>\n",
       "</table>\n",
       "</div>"
      ],
      "text/plain": [
       "  Criterias         C1         C2         C3         C4\n",
       "0        A1  (3, 4, 5)  (5, 6, 7)  (5, 6, 7)  (2, 3, 4)\n",
       "1        A2  (6, 7, 8)  (5, 6, 7)  (1, 1, 1)  (4, 5, 6)\n",
       "2        A3  (4, 5, 6)  (3, 4, 5)  (7, 8, 9)  (6, 7, 8)"
      ]
     },
     "metadata": {},
     "output_type": "display_data"
    },
    {
     "name": "stdout",
     "output_type": "stream",
     "text": [
      "Fuzzy Weights :\n",
      " [array([ 2.06967505,  4.65238342, 14.5813197 ]), array([1.81730349, 2.8872527 , 6.61810728]), array([ 2.66804899,  6.34765778, 20.96419493])]\n",
      "\n",
      "Defuzzified Weights :\n",
      " 0    7.101126\n",
      "1    3.774221\n",
      "2    9.993301\n",
      "dtype: float64\n",
      "Rank :\n",
      "\n"
     ]
    },
    {
     "data": {
      "text/plain": [
       "0    2.0\n",
       "1    3.0\n",
       "2    1.0\n",
       "dtype: float64"
      ]
     },
     "metadata": {},
     "output_type": "display_data"
    }
   ],
   "source": [
    "fuzzy_wpm_object = Fuzzy_WPM(data, weights)\n",
    "fuzzy_wpm_object.RUN_ALL()"
   ]
  }
 ],
 "metadata": {
  "kernelspec": {
   "display_name": "Python 3",
   "language": "python",
   "name": "python3"
  },
  "language_info": {
   "codemirror_mode": {
    "name": "ipython",
    "version": 3
   },
   "file_extension": ".py",
   "mimetype": "text/x-python",
   "name": "python",
   "nbconvert_exporter": "python",
   "pygments_lexer": "ipython3",
   "version": "3.8.8"
  }
 },
 "nbformat": 4,
 "nbformat_minor": 5
}
