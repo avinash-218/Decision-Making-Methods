{
 "cells": [
  {
   "cell_type": "markdown",
   "id": "e250c9ea",
   "metadata": {},
   "source": [
    "# Import Libraries"
   ]
  },
  {
   "cell_type": "code",
   "execution_count": 1,
   "id": "cb9c3084",
   "metadata": {},
   "outputs": [],
   "source": [
    "import pandas as pd\n",
    "import numpy as np"
   ]
  },
  {
   "cell_type": "markdown",
   "id": "3392f1d7",
   "metadata": {},
   "source": [
    "# Import Dataset"
   ]
  },
  {
   "cell_type": "code",
   "execution_count": 2,
   "id": "d3686442",
   "metadata": {},
   "outputs": [],
   "source": [
    "data1 = pd.read_excel('Fuzzy_Topsis1.xlsx', index_col=0)\n",
    "data2 = pd.read_excel('Fuzzy_Topsis2.xlsx', index_col=0)\n",
    "data3 = pd.read_excel('Fuzzy_Topsis3.xlsx', index_col=0)"
   ]
  },
  {
   "cell_type": "code",
   "execution_count": 3,
   "id": "af408838",
   "metadata": {},
   "outputs": [
    {
     "data": {
      "text/html": [
       "<div>\n",
       "<style scoped>\n",
       "    .dataframe tbody tr th:only-of-type {\n",
       "        vertical-align: middle;\n",
       "    }\n",
       "\n",
       "    .dataframe tbody tr th {\n",
       "        vertical-align: top;\n",
       "    }\n",
       "\n",
       "    .dataframe thead th {\n",
       "        text-align: right;\n",
       "    }\n",
       "</style>\n",
       "<table border=\"1\" class=\"dataframe\">\n",
       "  <thead>\n",
       "    <tr style=\"text-align: right;\">\n",
       "      <th></th>\n",
       "      <th>Communication Skills</th>\n",
       "      <th>Knowledge</th>\n",
       "      <th>Time to Solve</th>\n",
       "    </tr>\n",
       "    <tr>\n",
       "      <th>Criterias</th>\n",
       "      <th></th>\n",
       "      <th></th>\n",
       "      <th></th>\n",
       "    </tr>\n",
       "  </thead>\n",
       "  <tbody>\n",
       "    <tr>\n",
       "      <th>A1</th>\n",
       "      <td>Average</td>\n",
       "      <td>Very High</td>\n",
       "      <td>High</td>\n",
       "    </tr>\n",
       "    <tr>\n",
       "      <th>A2</th>\n",
       "      <td>High</td>\n",
       "      <td>Very High</td>\n",
       "      <td>Average</td>\n",
       "    </tr>\n",
       "    <tr>\n",
       "      <th>A3</th>\n",
       "      <td>Very High</td>\n",
       "      <td>Average</td>\n",
       "      <td>Low</td>\n",
       "    </tr>\n",
       "    <tr>\n",
       "      <th>A4</th>\n",
       "      <td>Low</td>\n",
       "      <td>Average</td>\n",
       "      <td>Low</td>\n",
       "    </tr>\n",
       "  </tbody>\n",
       "</table>\n",
       "</div>"
      ],
      "text/plain": [
       "          Communication Skills  Knowledge Time to Solve\n",
       "Criterias                                              \n",
       "A1                     Average  Very High          High\n",
       "A2                        High  Very High       Average\n",
       "A3                   Very High    Average           Low\n",
       "A4                         Low    Average           Low"
      ]
     },
     "execution_count": 3,
     "metadata": {},
     "output_type": "execute_result"
    }
   ],
   "source": [
    "data1"
   ]
  },
  {
   "cell_type": "code",
   "execution_count": 4,
   "id": "fab412f4",
   "metadata": {},
   "outputs": [
    {
     "data": {
      "text/html": [
       "<div>\n",
       "<style scoped>\n",
       "    .dataframe tbody tr th:only-of-type {\n",
       "        vertical-align: middle;\n",
       "    }\n",
       "\n",
       "    .dataframe tbody tr th {\n",
       "        vertical-align: top;\n",
       "    }\n",
       "\n",
       "    .dataframe thead th {\n",
       "        text-align: right;\n",
       "    }\n",
       "</style>\n",
       "<table border=\"1\" class=\"dataframe\">\n",
       "  <thead>\n",
       "    <tr style=\"text-align: right;\">\n",
       "      <th></th>\n",
       "      <th>Communication Skills</th>\n",
       "      <th>Knowledge</th>\n",
       "      <th>Time to Solve</th>\n",
       "    </tr>\n",
       "    <tr>\n",
       "      <th>Criterias</th>\n",
       "      <th></th>\n",
       "      <th></th>\n",
       "      <th></th>\n",
       "    </tr>\n",
       "  </thead>\n",
       "  <tbody>\n",
       "    <tr>\n",
       "      <th>A1</th>\n",
       "      <td>High</td>\n",
       "      <td>Very High</td>\n",
       "      <td>High</td>\n",
       "    </tr>\n",
       "    <tr>\n",
       "      <th>A2</th>\n",
       "      <td>High</td>\n",
       "      <td>High</td>\n",
       "      <td>Average</td>\n",
       "    </tr>\n",
       "    <tr>\n",
       "      <th>A3</th>\n",
       "      <td>Very High</td>\n",
       "      <td>Average</td>\n",
       "      <td>Very Low</td>\n",
       "    </tr>\n",
       "    <tr>\n",
       "      <th>A4</th>\n",
       "      <td>Low</td>\n",
       "      <td>Average</td>\n",
       "      <td>Very Low</td>\n",
       "    </tr>\n",
       "  </tbody>\n",
       "</table>\n",
       "</div>"
      ],
      "text/plain": [
       "          Communication Skills  Knowledge Time to Solve\n",
       "Criterias                                              \n",
       "A1                        High  Very High          High\n",
       "A2                        High       High       Average\n",
       "A3                   Very High    Average      Very Low\n",
       "A4                         Low    Average      Very Low"
      ]
     },
     "execution_count": 4,
     "metadata": {},
     "output_type": "execute_result"
    }
   ],
   "source": [
    "data2"
   ]
  },
  {
   "cell_type": "code",
   "execution_count": 5,
   "id": "a00a4258",
   "metadata": {},
   "outputs": [
    {
     "data": {
      "text/html": [
       "<div>\n",
       "<style scoped>\n",
       "    .dataframe tbody tr th:only-of-type {\n",
       "        vertical-align: middle;\n",
       "    }\n",
       "\n",
       "    .dataframe tbody tr th {\n",
       "        vertical-align: top;\n",
       "    }\n",
       "\n",
       "    .dataframe thead th {\n",
       "        text-align: right;\n",
       "    }\n",
       "</style>\n",
       "<table border=\"1\" class=\"dataframe\">\n",
       "  <thead>\n",
       "    <tr style=\"text-align: right;\">\n",
       "      <th></th>\n",
       "      <th>Communication Skills</th>\n",
       "      <th>Knowledge</th>\n",
       "      <th>Time to Solve</th>\n",
       "    </tr>\n",
       "    <tr>\n",
       "      <th>Criterias</th>\n",
       "      <th></th>\n",
       "      <th></th>\n",
       "      <th></th>\n",
       "    </tr>\n",
       "  </thead>\n",
       "  <tbody>\n",
       "    <tr>\n",
       "      <th>A1</th>\n",
       "      <td>Average</td>\n",
       "      <td>High</td>\n",
       "      <td>High</td>\n",
       "    </tr>\n",
       "    <tr>\n",
       "      <th>A2</th>\n",
       "      <td>High</td>\n",
       "      <td>Average</td>\n",
       "      <td>Average</td>\n",
       "    </tr>\n",
       "    <tr>\n",
       "      <th>A3</th>\n",
       "      <td>High</td>\n",
       "      <td>Average</td>\n",
       "      <td>Low</td>\n",
       "    </tr>\n",
       "    <tr>\n",
       "      <th>A4</th>\n",
       "      <td>Very Low</td>\n",
       "      <td>Low</td>\n",
       "      <td>Very Low</td>\n",
       "    </tr>\n",
       "  </tbody>\n",
       "</table>\n",
       "</div>"
      ],
      "text/plain": [
       "          Communication Skills Knowledge Time to Solve\n",
       "Criterias                                             \n",
       "A1                     Average      High          High\n",
       "A2                        High   Average       Average\n",
       "A3                        High   Average           Low\n",
       "A4                    Very Low       Low      Very Low"
      ]
     },
     "execution_count": 5,
     "metadata": {},
     "output_type": "execute_result"
    }
   ],
   "source": [
    "data3"
   ]
  },
  {
   "cell_type": "markdown",
   "id": "879aee9d",
   "metadata": {},
   "source": [
    "# Fuzzification"
   ]
  },
  {
   "cell_type": "code",
   "execution_count": 6,
   "id": "77e5c0e1",
   "metadata": {},
   "outputs": [
    {
     "data": {
      "text/plain": [
       "{'Very Low': (1, 1, 1),\n",
       " 'Low': (2, 3, 4),\n",
       " 'Average': (4, 5, 6),\n",
       " 'High': (6, 7, 8),\n",
       " 'Very High': (9, 9, 9)}"
      ]
     },
     "execution_count": 6,
     "metadata": {},
     "output_type": "execute_result"
    }
   ],
   "source": [
    "fuzzifier = {'Very Low':(1,1,1), 'Low':(2,3,4), 'Average':(4,5,6), 'High':(6,7,8), 'Very High':(9,9,9)}\n",
    "fuzzifier"
   ]
  },
  {
   "cell_type": "code",
   "execution_count": 7,
   "id": "f94ab259",
   "metadata": {},
   "outputs": [
    {
     "data": {
      "text/html": [
       "<div>\n",
       "<style scoped>\n",
       "    .dataframe tbody tr th:only-of-type {\n",
       "        vertical-align: middle;\n",
       "    }\n",
       "\n",
       "    .dataframe tbody tr th {\n",
       "        vertical-align: top;\n",
       "    }\n",
       "\n",
       "    .dataframe thead th {\n",
       "        text-align: right;\n",
       "    }\n",
       "</style>\n",
       "<table border=\"1\" class=\"dataframe\">\n",
       "  <thead>\n",
       "    <tr style=\"text-align: right;\">\n",
       "      <th></th>\n",
       "      <th>Communication Skills</th>\n",
       "      <th>Knowledge</th>\n",
       "      <th>Time to Solve</th>\n",
       "    </tr>\n",
       "    <tr>\n",
       "      <th>Criterias</th>\n",
       "      <th></th>\n",
       "      <th></th>\n",
       "      <th></th>\n",
       "    </tr>\n",
       "  </thead>\n",
       "  <tbody>\n",
       "    <tr>\n",
       "      <th>A1</th>\n",
       "      <td>(4, 5, 6)</td>\n",
       "      <td>(9, 9, 9)</td>\n",
       "      <td>(6, 7, 8)</td>\n",
       "    </tr>\n",
       "    <tr>\n",
       "      <th>A2</th>\n",
       "      <td>(6, 7, 8)</td>\n",
       "      <td>(9, 9, 9)</td>\n",
       "      <td>(4, 5, 6)</td>\n",
       "    </tr>\n",
       "    <tr>\n",
       "      <th>A3</th>\n",
       "      <td>(9, 9, 9)</td>\n",
       "      <td>(4, 5, 6)</td>\n",
       "      <td>(2, 3, 4)</td>\n",
       "    </tr>\n",
       "    <tr>\n",
       "      <th>A4</th>\n",
       "      <td>(2, 3, 4)</td>\n",
       "      <td>(4, 5, 6)</td>\n",
       "      <td>(2, 3, 4)</td>\n",
       "    </tr>\n",
       "  </tbody>\n",
       "</table>\n",
       "</div>"
      ],
      "text/plain": [
       "          Communication Skills  Knowledge Time to Solve\n",
       "Criterias                                              \n",
       "A1                   (4, 5, 6)  (9, 9, 9)     (6, 7, 8)\n",
       "A2                   (6, 7, 8)  (9, 9, 9)     (4, 5, 6)\n",
       "A3                   (9, 9, 9)  (4, 5, 6)     (2, 3, 4)\n",
       "A4                   (2, 3, 4)  (4, 5, 6)     (2, 3, 4)"
      ]
     },
     "execution_count": 7,
     "metadata": {},
     "output_type": "execute_result"
    }
   ],
   "source": [
    "for i in data1.columns:\n",
    "    data1[i] = data1[i].map(fuzzifier)\n",
    "data1"
   ]
  },
  {
   "cell_type": "code",
   "execution_count": 8,
   "id": "ffac8286",
   "metadata": {},
   "outputs": [
    {
     "data": {
      "text/html": [
       "<div>\n",
       "<style scoped>\n",
       "    .dataframe tbody tr th:only-of-type {\n",
       "        vertical-align: middle;\n",
       "    }\n",
       "\n",
       "    .dataframe tbody tr th {\n",
       "        vertical-align: top;\n",
       "    }\n",
       "\n",
       "    .dataframe thead th {\n",
       "        text-align: right;\n",
       "    }\n",
       "</style>\n",
       "<table border=\"1\" class=\"dataframe\">\n",
       "  <thead>\n",
       "    <tr style=\"text-align: right;\">\n",
       "      <th></th>\n",
       "      <th>Communication Skills</th>\n",
       "      <th>Knowledge</th>\n",
       "      <th>Time to Solve</th>\n",
       "    </tr>\n",
       "    <tr>\n",
       "      <th>Criterias</th>\n",
       "      <th></th>\n",
       "      <th></th>\n",
       "      <th></th>\n",
       "    </tr>\n",
       "  </thead>\n",
       "  <tbody>\n",
       "    <tr>\n",
       "      <th>A1</th>\n",
       "      <td>(6, 7, 8)</td>\n",
       "      <td>(9, 9, 9)</td>\n",
       "      <td>(6, 7, 8)</td>\n",
       "    </tr>\n",
       "    <tr>\n",
       "      <th>A2</th>\n",
       "      <td>(6, 7, 8)</td>\n",
       "      <td>(6, 7, 8)</td>\n",
       "      <td>(4, 5, 6)</td>\n",
       "    </tr>\n",
       "    <tr>\n",
       "      <th>A3</th>\n",
       "      <td>(9, 9, 9)</td>\n",
       "      <td>(4, 5, 6)</td>\n",
       "      <td>(1, 1, 1)</td>\n",
       "    </tr>\n",
       "    <tr>\n",
       "      <th>A4</th>\n",
       "      <td>(2, 3, 4)</td>\n",
       "      <td>(4, 5, 6)</td>\n",
       "      <td>(1, 1, 1)</td>\n",
       "    </tr>\n",
       "  </tbody>\n",
       "</table>\n",
       "</div>"
      ],
      "text/plain": [
       "          Communication Skills  Knowledge Time to Solve\n",
       "Criterias                                              \n",
       "A1                   (6, 7, 8)  (9, 9, 9)     (6, 7, 8)\n",
       "A2                   (6, 7, 8)  (6, 7, 8)     (4, 5, 6)\n",
       "A3                   (9, 9, 9)  (4, 5, 6)     (1, 1, 1)\n",
       "A4                   (2, 3, 4)  (4, 5, 6)     (1, 1, 1)"
      ]
     },
     "execution_count": 8,
     "metadata": {},
     "output_type": "execute_result"
    }
   ],
   "source": [
    "for i in data2.columns:\n",
    "    data2[i] = data2[i].map(fuzzifier)\n",
    "data2"
   ]
  },
  {
   "cell_type": "code",
   "execution_count": 9,
   "id": "f3a1c8a6",
   "metadata": {},
   "outputs": [
    {
     "data": {
      "text/html": [
       "<div>\n",
       "<style scoped>\n",
       "    .dataframe tbody tr th:only-of-type {\n",
       "        vertical-align: middle;\n",
       "    }\n",
       "\n",
       "    .dataframe tbody tr th {\n",
       "        vertical-align: top;\n",
       "    }\n",
       "\n",
       "    .dataframe thead th {\n",
       "        text-align: right;\n",
       "    }\n",
       "</style>\n",
       "<table border=\"1\" class=\"dataframe\">\n",
       "  <thead>\n",
       "    <tr style=\"text-align: right;\">\n",
       "      <th></th>\n",
       "      <th>Communication Skills</th>\n",
       "      <th>Knowledge</th>\n",
       "      <th>Time to Solve</th>\n",
       "    </tr>\n",
       "    <tr>\n",
       "      <th>Criterias</th>\n",
       "      <th></th>\n",
       "      <th></th>\n",
       "      <th></th>\n",
       "    </tr>\n",
       "  </thead>\n",
       "  <tbody>\n",
       "    <tr>\n",
       "      <th>A1</th>\n",
       "      <td>(4, 5, 6)</td>\n",
       "      <td>(6, 7, 8)</td>\n",
       "      <td>(6, 7, 8)</td>\n",
       "    </tr>\n",
       "    <tr>\n",
       "      <th>A2</th>\n",
       "      <td>(6, 7, 8)</td>\n",
       "      <td>(4, 5, 6)</td>\n",
       "      <td>(4, 5, 6)</td>\n",
       "    </tr>\n",
       "    <tr>\n",
       "      <th>A3</th>\n",
       "      <td>(6, 7, 8)</td>\n",
       "      <td>(4, 5, 6)</td>\n",
       "      <td>(2, 3, 4)</td>\n",
       "    </tr>\n",
       "    <tr>\n",
       "      <th>A4</th>\n",
       "      <td>(1, 1, 1)</td>\n",
       "      <td>(2, 3, 4)</td>\n",
       "      <td>(1, 1, 1)</td>\n",
       "    </tr>\n",
       "  </tbody>\n",
       "</table>\n",
       "</div>"
      ],
      "text/plain": [
       "          Communication Skills  Knowledge Time to Solve\n",
       "Criterias                                              \n",
       "A1                   (4, 5, 6)  (6, 7, 8)     (6, 7, 8)\n",
       "A2                   (6, 7, 8)  (4, 5, 6)     (4, 5, 6)\n",
       "A3                   (6, 7, 8)  (4, 5, 6)     (2, 3, 4)\n",
       "A4                   (1, 1, 1)  (2, 3, 4)     (1, 1, 1)"
      ]
     },
     "execution_count": 9,
     "metadata": {},
     "output_type": "execute_result"
    }
   ],
   "source": [
    "for i in data3.columns:\n",
    "    data3[i] = data3[i].map(fuzzifier)\n",
    "data3"
   ]
  },
  {
   "cell_type": "markdown",
   "id": "3151551b",
   "metadata": {},
   "source": [
    "# Combine Decision Matrix"
   ]
  },
  {
   "cell_type": "code",
   "execution_count": 10,
   "id": "5171594b",
   "metadata": {},
   "outputs": [
    {
     "data": {
      "text/plain": [
       "['Communication Skills', 'Knowledge', 'Time to Solve']"
      ]
     },
     "execution_count": 10,
     "metadata": {},
     "output_type": "execute_result"
    }
   ],
   "source": [
    "cols = list(data1.columns)\n",
    "cols"
   ]
  },
  {
   "cell_type": "code",
   "execution_count": 11,
   "id": "4db91002",
   "metadata": {},
   "outputs": [],
   "source": [
    "def combine(i, j):\n",
    "    a = min(data1.iloc[i,j][0], data2.iloc[i,j][0], data3.iloc[i,j][0])\n",
    "    b = np.mean([data1.iloc[i,j][1], data2.iloc[i,j][1], data3.iloc[i,j][1]])\n",
    "    c = max(data1.iloc[i,j][2], data2.iloc[i,j][2], data3.iloc[i,j][2])\n",
    "    return np.array([a,b,c])"
   ]
  },
  {
   "cell_type": "code",
   "execution_count": 12,
   "id": "84e98d86",
   "metadata": {},
   "outputs": [
    {
     "data": {
      "text/html": [
       "<div>\n",
       "<style scoped>\n",
       "    .dataframe tbody tr th:only-of-type {\n",
       "        vertical-align: middle;\n",
       "    }\n",
       "\n",
       "    .dataframe tbody tr th {\n",
       "        vertical-align: top;\n",
       "    }\n",
       "\n",
       "    .dataframe thead th {\n",
       "        text-align: right;\n",
       "    }\n",
       "</style>\n",
       "<table border=\"1\" class=\"dataframe\">\n",
       "  <thead>\n",
       "    <tr style=\"text-align: right;\">\n",
       "      <th></th>\n",
       "      <th>Communication Skills</th>\n",
       "      <th>Knowledge</th>\n",
       "      <th>Time to Solve</th>\n",
       "    </tr>\n",
       "  </thead>\n",
       "  <tbody>\n",
       "    <tr>\n",
       "      <th>0</th>\n",
       "      <td>[4.0, 5.666666666666667, 8.0]</td>\n",
       "      <td>[6.0, 8.333333333333334, 9.0]</td>\n",
       "      <td>[6.0, 7.0, 8.0]</td>\n",
       "    </tr>\n",
       "    <tr>\n",
       "      <th>1</th>\n",
       "      <td>[6.0, 7.0, 8.0]</td>\n",
       "      <td>[4.0, 7.0, 9.0]</td>\n",
       "      <td>[4.0, 5.0, 6.0]</td>\n",
       "    </tr>\n",
       "    <tr>\n",
       "      <th>2</th>\n",
       "      <td>[6.0, 8.333333333333334, 9.0]</td>\n",
       "      <td>[4.0, 5.0, 6.0]</td>\n",
       "      <td>[1.0, 2.3333333333333335, 4.0]</td>\n",
       "    </tr>\n",
       "    <tr>\n",
       "      <th>3</th>\n",
       "      <td>[1.0, 2.3333333333333335, 4.0]</td>\n",
       "      <td>[2.0, 4.333333333333333, 6.0]</td>\n",
       "      <td>[1.0, 1.6666666666666667, 4.0]</td>\n",
       "    </tr>\n",
       "  </tbody>\n",
       "</table>\n",
       "</div>"
      ],
      "text/plain": [
       "             Communication Skills                      Knowledge  \\\n",
       "0   [4.0, 5.666666666666667, 8.0]  [6.0, 8.333333333333334, 9.0]   \n",
       "1                 [6.0, 7.0, 8.0]                [4.0, 7.0, 9.0]   \n",
       "2   [6.0, 8.333333333333334, 9.0]                [4.0, 5.0, 6.0]   \n",
       "3  [1.0, 2.3333333333333335, 4.0]  [2.0, 4.333333333333333, 6.0]   \n",
       "\n",
       "                    Time to Solve  \n",
       "0                 [6.0, 7.0, 8.0]  \n",
       "1                 [4.0, 5.0, 6.0]  \n",
       "2  [1.0, 2.3333333333333335, 4.0]  \n",
       "3  [1.0, 1.6666666666666667, 4.0]  "
      ]
     },
     "execution_count": 12,
     "metadata": {},
     "output_type": "execute_result"
    }
   ],
   "source": [
    "decision_matrix = pd.DataFrame(columns=cols)\n",
    "\n",
    "nrows, ncols = data1.shape\n",
    "for i in range(nrows):\n",
    "    vals = dict()\n",
    "    for j in range(ncols):\n",
    "        vals[cols[j]] = combine(i,j)\n",
    "        \n",
    "    decision_matrix = decision_matrix.append(vals, ignore_index=True)\n",
    "    \n",
    "decision_matrix"
   ]
  },
  {
   "cell_type": "markdown",
   "id": "b5f9d9bf",
   "metadata": {},
   "source": [
    "# Normalize"
   ]
  },
  {
   "cell_type": "code",
   "execution_count": 14,
   "id": "e9d3a0ee",
   "metadata": {},
   "outputs": [
    {
     "data": {
      "text/plain": [
       "{'Communication Skills': 'B', 'Knowledge': 'B', 'Time to Solve': 'NB'}"
      ]
     },
     "execution_count": 14,
     "metadata": {},
     "output_type": "execute_result"
    }
   ],
   "source": [
    "beneficiary_or_not = {'Communication Skills' : 'B', 'Knowledge':'B', 'Time to Solve' :'NB'}\n",
    "beneficiary_or_not"
   ]
  },
  {
   "cell_type": "code",
   "execution_count": 15,
   "id": "e6a6fc2c",
   "metadata": {},
   "outputs": [],
   "source": [
    "max_val = 0\n",
    "min_val = 999\n",
    "for i in decision_matrix.columns:\n",
    "    for j in decision_matrix[i]:\n",
    "        if(beneficiary_or_not[i]=='B'):\n",
    "            max_val = max(max(j), max_val)\n",
    "        else:\n",
    "            min_val = min(min(j), min_val)\n",
    "                \n",
    "    if(beneficiary_or_not[i]=='B'):\n",
    "        decision_matrix[i] = decision_matrix[i] / max_val\n",
    "        max_val = -1\n",
    "    else:\n",
    "        decision_matrix[i] = (min_val / decision_matrix[i])\n",
    "        \n",
    "decision_matrix['Time to Solve'] = decision_matrix['Time to Solve'].apply(lambda row:np.flip(row))"
   ]
  },
  {
   "cell_type": "code",
   "execution_count": 16,
   "id": "97491f6f",
   "metadata": {},
   "outputs": [
    {
     "data": {
      "text/html": [
       "<div>\n",
       "<style scoped>\n",
       "    .dataframe tbody tr th:only-of-type {\n",
       "        vertical-align: middle;\n",
       "    }\n",
       "\n",
       "    .dataframe tbody tr th {\n",
       "        vertical-align: top;\n",
       "    }\n",
       "\n",
       "    .dataframe thead th {\n",
       "        text-align: right;\n",
       "    }\n",
       "</style>\n",
       "<table border=\"1\" class=\"dataframe\">\n",
       "  <thead>\n",
       "    <tr style=\"text-align: right;\">\n",
       "      <th></th>\n",
       "      <th>Communication Skills</th>\n",
       "      <th>Knowledge</th>\n",
       "      <th>Time to Solve</th>\n",
       "    </tr>\n",
       "  </thead>\n",
       "  <tbody>\n",
       "    <tr>\n",
       "      <th>0</th>\n",
       "      <td>[0.4444444444444444, 0.6296296296296297, 0.888...</td>\n",
       "      <td>[0.6666666666666666, 0.925925925925926, 1.0]</td>\n",
       "      <td>[0.125, 0.14285714285714285, 0.16666666666666666]</td>\n",
       "    </tr>\n",
       "    <tr>\n",
       "      <th>1</th>\n",
       "      <td>[0.6666666666666666, 0.7777777777777778, 0.888...</td>\n",
       "      <td>[0.4444444444444444, 0.7777777777777778, 1.0]</td>\n",
       "      <td>[0.16666666666666666, 0.2, 0.25]</td>\n",
       "    </tr>\n",
       "    <tr>\n",
       "      <th>2</th>\n",
       "      <td>[0.6666666666666666, 0.925925925925926, 1.0]</td>\n",
       "      <td>[0.4444444444444444, 0.5555555555555556, 0.666...</td>\n",
       "      <td>[0.25, 0.42857142857142855, 1.0]</td>\n",
       "    </tr>\n",
       "    <tr>\n",
       "      <th>3</th>\n",
       "      <td>[0.1111111111111111, 0.2592592592592593, 0.444...</td>\n",
       "      <td>[0.2222222222222222, 0.48148148148148145, 0.66...</td>\n",
       "      <td>[0.25, 0.6, 1.0]</td>\n",
       "    </tr>\n",
       "  </tbody>\n",
       "</table>\n",
       "</div>"
      ],
      "text/plain": [
       "                                Communication Skills  \\\n",
       "0  [0.4444444444444444, 0.6296296296296297, 0.888...   \n",
       "1  [0.6666666666666666, 0.7777777777777778, 0.888...   \n",
       "2       [0.6666666666666666, 0.925925925925926, 1.0]   \n",
       "3  [0.1111111111111111, 0.2592592592592593, 0.444...   \n",
       "\n",
       "                                           Knowledge  \\\n",
       "0       [0.6666666666666666, 0.925925925925926, 1.0]   \n",
       "1      [0.4444444444444444, 0.7777777777777778, 1.0]   \n",
       "2  [0.4444444444444444, 0.5555555555555556, 0.666...   \n",
       "3  [0.2222222222222222, 0.48148148148148145, 0.66...   \n",
       "\n",
       "                                       Time to Solve  \n",
       "0  [0.125, 0.14285714285714285, 0.16666666666666666]  \n",
       "1                   [0.16666666666666666, 0.2, 0.25]  \n",
       "2                   [0.25, 0.42857142857142855, 1.0]  \n",
       "3                                   [0.25, 0.6, 1.0]  "
      ]
     },
     "execution_count": 16,
     "metadata": {},
     "output_type": "execute_result"
    }
   ],
   "source": [
    "decision_matrix"
   ]
  },
  {
   "cell_type": "markdown",
   "id": "290e6e6c",
   "metadata": {},
   "source": [
    "# Weights"
   ]
  },
  {
   "cell_type": "code",
   "execution_count": 23,
   "id": "dd22075b",
   "metadata": {},
   "outputs": [
    {
     "data": {
      "text/plain": [
       "array([[6, 7, 8],\n",
       "       [9, 9, 9],\n",
       "       [4, 5, 6]])"
      ]
     },
     "execution_count": 23,
     "metadata": {},
     "output_type": "execute_result"
    }
   ],
   "source": [
    "w = np.array([(6,7,8), (9,9,9), (4,5,6)])\n",
    "w"
   ]
  },
  {
   "cell_type": "code",
   "execution_count": 19,
   "id": "bd0d75ea",
   "metadata": {},
   "outputs": [
    {
     "ename": "ValueError",
     "evalue": "Unable to coerce to DataFrame, shape must be (4, 3): given (3, 3)",
     "output_type": "error",
     "traceback": [
      "\u001b[1;31m---------------------------------------------------------------------------\u001b[0m",
      "\u001b[1;31mValueError\u001b[0m                                Traceback (most recent call last)",
      "\u001b[1;32m<ipython-input-19-e0175fe96d80>\u001b[0m in \u001b[0;36m<module>\u001b[1;34m\u001b[0m\n\u001b[1;32m----> 1\u001b[1;33m \u001b[0mdecision_matrix\u001b[0m \u001b[1;33m/\u001b[0m \u001b[0mw\u001b[0m\u001b[1;33m\u001b[0m\u001b[1;33m\u001b[0m\u001b[0m\n\u001b[0m",
      "\u001b[1;32mC:\\ProgramData\\Anaconda3\\lib\\site-packages\\pandas\\core\\ops\\common.py\u001b[0m in \u001b[0;36mnew_method\u001b[1;34m(self, other)\u001b[0m\n\u001b[0;32m     67\u001b[0m         \u001b[0mother\u001b[0m \u001b[1;33m=\u001b[0m \u001b[0mitem_from_zerodim\u001b[0m\u001b[1;33m(\u001b[0m\u001b[0mother\u001b[0m\u001b[1;33m)\u001b[0m\u001b[1;33m\u001b[0m\u001b[1;33m\u001b[0m\u001b[0m\n\u001b[0;32m     68\u001b[0m \u001b[1;33m\u001b[0m\u001b[0m\n\u001b[1;32m---> 69\u001b[1;33m         \u001b[1;32mreturn\u001b[0m \u001b[0mmethod\u001b[0m\u001b[1;33m(\u001b[0m\u001b[0mself\u001b[0m\u001b[1;33m,\u001b[0m \u001b[0mother\u001b[0m\u001b[1;33m)\u001b[0m\u001b[1;33m\u001b[0m\u001b[1;33m\u001b[0m\u001b[0m\n\u001b[0m\u001b[0;32m     70\u001b[0m \u001b[1;33m\u001b[0m\u001b[0m\n\u001b[0;32m     71\u001b[0m     \u001b[1;32mreturn\u001b[0m \u001b[0mnew_method\u001b[0m\u001b[1;33m\u001b[0m\u001b[1;33m\u001b[0m\u001b[0m\n",
      "\u001b[1;32mC:\\ProgramData\\Anaconda3\\lib\\site-packages\\pandas\\core\\arraylike.py\u001b[0m in \u001b[0;36m__truediv__\u001b[1;34m(self, other)\u001b[0m\n\u001b[0;32m    114\u001b[0m     \u001b[1;33m@\u001b[0m\u001b[0munpack_zerodim_and_defer\u001b[0m\u001b[1;33m(\u001b[0m\u001b[1;34m\"__truediv__\"\u001b[0m\u001b[1;33m)\u001b[0m\u001b[1;33m\u001b[0m\u001b[1;33m\u001b[0m\u001b[0m\n\u001b[0;32m    115\u001b[0m     \u001b[1;32mdef\u001b[0m \u001b[0m__truediv__\u001b[0m\u001b[1;33m(\u001b[0m\u001b[0mself\u001b[0m\u001b[1;33m,\u001b[0m \u001b[0mother\u001b[0m\u001b[1;33m)\u001b[0m\u001b[1;33m:\u001b[0m\u001b[1;33m\u001b[0m\u001b[1;33m\u001b[0m\u001b[0m\n\u001b[1;32m--> 116\u001b[1;33m         \u001b[1;32mreturn\u001b[0m \u001b[0mself\u001b[0m\u001b[1;33m.\u001b[0m\u001b[0m_arith_method\u001b[0m\u001b[1;33m(\u001b[0m\u001b[0mother\u001b[0m\u001b[1;33m,\u001b[0m \u001b[0moperator\u001b[0m\u001b[1;33m.\u001b[0m\u001b[0mtruediv\u001b[0m\u001b[1;33m)\u001b[0m\u001b[1;33m\u001b[0m\u001b[1;33m\u001b[0m\u001b[0m\n\u001b[0m\u001b[0;32m    117\u001b[0m \u001b[1;33m\u001b[0m\u001b[0m\n\u001b[0;32m    118\u001b[0m     \u001b[1;33m@\u001b[0m\u001b[0munpack_zerodim_and_defer\u001b[0m\u001b[1;33m(\u001b[0m\u001b[1;34m\"__rtruediv__\"\u001b[0m\u001b[1;33m)\u001b[0m\u001b[1;33m\u001b[0m\u001b[1;33m\u001b[0m\u001b[0m\n",
      "\u001b[1;32mC:\\ProgramData\\Anaconda3\\lib\\site-packages\\pandas\\core\\frame.py\u001b[0m in \u001b[0;36m_arith_method\u001b[1;34m(self, other, op)\u001b[0m\n\u001b[0;32m   6857\u001b[0m         \u001b[0mother\u001b[0m \u001b[1;33m=\u001b[0m \u001b[0mops\u001b[0m\u001b[1;33m.\u001b[0m\u001b[0mmaybe_prepare_scalar_for_op\u001b[0m\u001b[1;33m(\u001b[0m\u001b[0mother\u001b[0m\u001b[1;33m,\u001b[0m \u001b[1;33m(\u001b[0m\u001b[0mself\u001b[0m\u001b[1;33m.\u001b[0m\u001b[0mshape\u001b[0m\u001b[1;33m[\u001b[0m\u001b[0maxis\u001b[0m\u001b[1;33m]\u001b[0m\u001b[1;33m,\u001b[0m\u001b[1;33m)\u001b[0m\u001b[1;33m)\u001b[0m\u001b[1;33m\u001b[0m\u001b[1;33m\u001b[0m\u001b[0m\n\u001b[0;32m   6858\u001b[0m \u001b[1;33m\u001b[0m\u001b[0m\n\u001b[1;32m-> 6859\u001b[1;33m         \u001b[0mself\u001b[0m\u001b[1;33m,\u001b[0m \u001b[0mother\u001b[0m \u001b[1;33m=\u001b[0m \u001b[0mops\u001b[0m\u001b[1;33m.\u001b[0m\u001b[0malign_method_FRAME\u001b[0m\u001b[1;33m(\u001b[0m\u001b[0mself\u001b[0m\u001b[1;33m,\u001b[0m \u001b[0mother\u001b[0m\u001b[1;33m,\u001b[0m \u001b[0maxis\u001b[0m\u001b[1;33m,\u001b[0m \u001b[0mflex\u001b[0m\u001b[1;33m=\u001b[0m\u001b[1;32mTrue\u001b[0m\u001b[1;33m,\u001b[0m \u001b[0mlevel\u001b[0m\u001b[1;33m=\u001b[0m\u001b[1;32mNone\u001b[0m\u001b[1;33m)\u001b[0m\u001b[1;33m\u001b[0m\u001b[1;33m\u001b[0m\u001b[0m\n\u001b[0m\u001b[0;32m   6860\u001b[0m \u001b[1;33m\u001b[0m\u001b[0m\n\u001b[0;32m   6861\u001b[0m         \u001b[0mnew_data\u001b[0m \u001b[1;33m=\u001b[0m \u001b[0mself\u001b[0m\u001b[1;33m.\u001b[0m\u001b[0m_dispatch_frame_op\u001b[0m\u001b[1;33m(\u001b[0m\u001b[0mother\u001b[0m\u001b[1;33m,\u001b[0m \u001b[0mop\u001b[0m\u001b[1;33m,\u001b[0m \u001b[0maxis\u001b[0m\u001b[1;33m=\u001b[0m\u001b[0maxis\u001b[0m\u001b[1;33m)\u001b[0m\u001b[1;33m\u001b[0m\u001b[1;33m\u001b[0m\u001b[0m\n",
      "\u001b[1;32mC:\\ProgramData\\Anaconda3\\lib\\site-packages\\pandas\\core\\ops\\__init__.py\u001b[0m in \u001b[0;36malign_method_FRAME\u001b[1;34m(left, right, axis, flex, level)\u001b[0m\n\u001b[0;32m    261\u001b[0m \u001b[1;33m\u001b[0m\u001b[0m\n\u001b[0;32m    262\u001b[0m             \u001b[1;32melse\u001b[0m\u001b[1;33m:\u001b[0m\u001b[1;33m\u001b[0m\u001b[1;33m\u001b[0m\u001b[0m\n\u001b[1;32m--> 263\u001b[1;33m                 raise ValueError(\n\u001b[0m\u001b[0;32m    264\u001b[0m                     \u001b[1;34m\"Unable to coerce to DataFrame, shape \"\u001b[0m\u001b[1;33m\u001b[0m\u001b[1;33m\u001b[0m\u001b[0m\n\u001b[0;32m    265\u001b[0m                     \u001b[1;34mf\"must be {left.shape}: given {right.shape}\"\u001b[0m\u001b[1;33m\u001b[0m\u001b[1;33m\u001b[0m\u001b[0m\n",
      "\u001b[1;31mValueError\u001b[0m: Unable to coerce to DataFrame, shape must be (4, 3): given (3, 3)"
     ]
    }
   ],
   "source": [
    "decision_matrix / w"
   ]
  }
 ],
 "metadata": {
  "kernelspec": {
   "display_name": "Python 3",
   "language": "python",
   "name": "python3"
  },
  "language_info": {
   "codemirror_mode": {
    "name": "ipython",
    "version": 3
   },
   "file_extension": ".py",
   "mimetype": "text/x-python",
   "name": "python",
   "nbconvert_exporter": "python",
   "pygments_lexer": "ipython3",
   "version": "3.8.8"
  }
 },
 "nbformat": 4,
 "nbformat_minor": 5
}
