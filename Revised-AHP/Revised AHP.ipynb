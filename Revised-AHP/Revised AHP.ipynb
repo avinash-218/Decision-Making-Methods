{
 "cells": [
  {
   "cell_type": "markdown",
   "id": "817279f5",
   "metadata": {},
   "source": [
    "# Import Libraries"
   ]
  },
  {
   "cell_type": "code",
   "execution_count": 1,
   "id": "d4b585c2",
   "metadata": {},
   "outputs": [],
   "source": [
    "import pandas as pd\n",
    "import numpy as np\n",
    "from scipy import stats"
   ]
  },
  {
   "cell_type": "markdown",
   "id": "fd45957f",
   "metadata": {},
   "source": [
    "# Class AHP"
   ]
  },
  {
   "cell_type": "code",
   "execution_count": 2,
   "id": "cdd72265",
   "metadata": {},
   "outputs": [],
   "source": [
    "class RAHP:\n",
    "    def __init__(self, pair_comp_matrix):#constructor\n",
    "        self.data = pair_comp_matrix\n",
    "        self.pair_comp_matrix = pair_comp_matrix\n",
    "        self.n = np.shape(self.pair_comp_matrix)[0]\n",
    "        self.geometric_mean = None\n",
    "        self.sum_geom_mean = None\n",
    "        self.weights = None\n",
    "        self.matrix_a3 = None\n",
    "        self.matrix_a4 = None\n",
    "        self.average_lambda_max = None\n",
    "        self.consistency_index = None\n",
    "        self.random_index = [None, 0, 0, 0.58, 0.90, 1.12, 1.24, 1.32, 1.41, 1.45, 1.49]\n",
    "        \n",
    "    def calc_gemetric_mean(self):#calc geometric mean\n",
    "        self.geometric_mean = stats.gmean(self.pair_comp_matrix.iloc[:,1:].astype('float'), axis=1)\n",
    "        print(\"\\nGeometric Mean :\", self.geometric_mean)\n",
    "        self.sum_geom_mean = np.sum(self.geometric_mean)\n",
    "        print(\"\\nSum of Geometric Mean:\", self.sum_geom_mean)\n",
    "        \n",
    "    def calc_weights(self):#calc weights\n",
    "        self.weights = self.geometric_mean / self.sum_geom_mean\n",
    "        print(\"\\nWeights :\", self.weights)\n",
    "        \n",
    "    def calc_A3(self):#calc A3 matrix\n",
    "        self.matrix_a3 = np.matmul(self.pair_comp_matrix.iloc[:,1:], self.weights)\n",
    "        print(\"\\nA3 Matrix :\\n\", self.matrix_a3, sep='')\n",
    "        \n",
    "    def calc_A4(self):#calc A3 matrix\n",
    "        self.matrix_a4 = self.matrix_a3 / self.weights\n",
    "        print(\"\\nA4 Matrix :\\n\", self.matrix_a4, sep='')\n",
    "        \n",
    "    def calc_consistency_index(self):#calc consistency index\n",
    "        self.average_lambda_max = np.mean(self.matrix_a4)\n",
    "        print(\"\\nAverage Lambda Max :\", self.average_lambda_max)\n",
    "        \n",
    "        self.consistency_index = (self.average_lambda_max-self.n)/(self.n-1)\n",
    "        print(\"\\nConsistency Index :\", self.consistency_index)\n",
    "        \n",
    "    def calc_consistency_ratio(self):#calc consistency ratio\n",
    "        self.consistency_ratio = self.consistency_index / self.random_index[self.n]\n",
    "        print(\"\\nConsistency Ratio :\", self.consistency_ratio)\n",
    "        \n",
    "        if(self.consistency_ratio < 0.1):\n",
    "            print(\"\\nConsistent Pairwise Comparision Matrix\")\n",
    "        else:\n",
    "            print(\"\\nInconsistent Pairwise Comparision Matrix\")\n",
    "            \n",
    "    def run_all(self):#run all methods\n",
    "        self.calc_gemetric_mean()\n",
    "        self.calc_weights()\n",
    "        self.calc_A3()\n",
    "        self.calc_A4()\n",
    "        self.calc_consistency_index()\n",
    "        self.calc_consistency_ratio()"
   ]
  },
  {
   "cell_type": "markdown",
   "id": "674d9a38",
   "metadata": {},
   "source": [
    "# Import Pair-Wise Comparision Matrix (A1)"
   ]
  },
  {
   "cell_type": "code",
   "execution_count": 3,
   "id": "3d0f8e49",
   "metadata": {},
   "outputs": [
    {
     "data": {
      "text/html": [
       "<div>\n",
       "<style scoped>\n",
       "    .dataframe tbody tr th:only-of-type {\n",
       "        vertical-align: middle;\n",
       "    }\n",
       "\n",
       "    .dataframe tbody tr th {\n",
       "        vertical-align: top;\n",
       "    }\n",
       "\n",
       "    .dataframe thead th {\n",
       "        text-align: right;\n",
       "    }\n",
       "</style>\n",
       "<table border=\"1\" class=\"dataframe\">\n",
       "  <thead>\n",
       "    <tr style=\"text-align: right;\">\n",
       "      <th></th>\n",
       "      <th>Criterias</th>\n",
       "      <th>c1</th>\n",
       "      <th>c2</th>\n",
       "      <th>c3</th>\n",
       "    </tr>\n",
       "  </thead>\n",
       "  <tbody>\n",
       "    <tr>\n",
       "      <th>0</th>\n",
       "      <td>c1</td>\n",
       "      <td>1</td>\n",
       "      <td>9</td>\n",
       "      <td>8</td>\n",
       "    </tr>\n",
       "    <tr>\n",
       "      <th>1</th>\n",
       "      <td>c2</td>\n",
       "      <td>9</td>\n",
       "      <td>1</td>\n",
       "      <td>9</td>\n",
       "    </tr>\n",
       "    <tr>\n",
       "      <th>2</th>\n",
       "      <td>c3</td>\n",
       "      <td>1</td>\n",
       "      <td>1</td>\n",
       "      <td>1</td>\n",
       "    </tr>\n",
       "  </tbody>\n",
       "</table>\n",
       "</div>"
      ],
      "text/plain": [
       "  Criterias  c1  c2  c3\n",
       "0        c1   1   9   8\n",
       "1        c2   9   1   9\n",
       "2        c3   1   1   1"
      ]
     },
     "execution_count": 3,
     "metadata": {},
     "output_type": "execute_result"
    }
   ],
   "source": [
    "pair_comp_matrix = pd.read_excel('Revised_AHP.xlsx')\n",
    "pair_comp_matrix"
   ]
  },
  {
   "cell_type": "code",
   "execution_count": 4,
   "id": "82ed857d",
   "metadata": {},
   "outputs": [
    {
     "data": {
      "text/html": [
       "<div>\n",
       "<style scoped>\n",
       "    .dataframe tbody tr th:only-of-type {\n",
       "        vertical-align: middle;\n",
       "    }\n",
       "\n",
       "    .dataframe tbody tr th {\n",
       "        vertical-align: top;\n",
       "    }\n",
       "\n",
       "    .dataframe thead th {\n",
       "        text-align: right;\n",
       "    }\n",
       "</style>\n",
       "<table border=\"1\" class=\"dataframe\">\n",
       "  <thead>\n",
       "    <tr style=\"text-align: right;\">\n",
       "      <th></th>\n",
       "      <th>Criterias</th>\n",
       "      <th>c1</th>\n",
       "      <th>c2</th>\n",
       "      <th>c3</th>\n",
       "    </tr>\n",
       "  </thead>\n",
       "  <tbody>\n",
       "    <tr>\n",
       "      <th>0</th>\n",
       "      <td>c1</td>\n",
       "      <td>0.090909</td>\n",
       "      <td>0.818182</td>\n",
       "      <td>0.444444</td>\n",
       "    </tr>\n",
       "    <tr>\n",
       "      <th>1</th>\n",
       "      <td>c2</td>\n",
       "      <td>0.818182</td>\n",
       "      <td>0.090909</td>\n",
       "      <td>0.5</td>\n",
       "    </tr>\n",
       "    <tr>\n",
       "      <th>2</th>\n",
       "      <td>c3</td>\n",
       "      <td>0.090909</td>\n",
       "      <td>0.090909</td>\n",
       "      <td>0.055556</td>\n",
       "    </tr>\n",
       "  </tbody>\n",
       "</table>\n",
       "</div>"
      ],
      "text/plain": [
       "  Criterias        c1        c2        c3\n",
       "0        c1  0.090909  0.818182  0.444444\n",
       "1        c2  0.818182  0.090909       0.5\n",
       "2        c3  0.090909  0.090909  0.055556"
      ]
     },
     "execution_count": 4,
     "metadata": {},
     "output_type": "execute_result"
    }
   ],
   "source": [
    "pair_comp_matrix.iloc[:,1:] = pair_comp_matrix.iloc[:,1:] / np.array(pair_comp_matrix.sum())[1:]\n",
    "pair_comp_matrix"
   ]
  },
  {
   "cell_type": "markdown",
   "id": "a2d73e05",
   "metadata": {},
   "source": [
    "# Create Object And Run All"
   ]
  },
  {
   "cell_type": "code",
   "execution_count": 5,
   "id": "eaa6728a",
   "metadata": {},
   "outputs": [
    {
     "name": "stdout",
     "output_type": "stream",
     "text": [
      "\n",
      "Geometric Mean : [0.32094076 0.33379184 0.07714611]\n",
      "\n",
      "Sum of Geometric Mean: 0.7318787086025115\n",
      "\n",
      "Weights : [0.43851632 0.45607535 0.10540833]\n",
      "\n",
      "A3 Matrix :\n",
      "0    0.459866\n",
      "1    0.452952\n",
      "2    0.087183\n",
      "dtype: object\n",
      "\n",
      "A4 Matrix :\n",
      "0    1.048686\n",
      "1    0.993151\n",
      "2    0.827093\n",
      "dtype: object\n",
      "\n",
      "Average Lambda Max : 0.9563100226233768\n",
      "\n",
      "Consistency Index : -1.0218449886883116\n",
      "\n",
      "Consistency Ratio : -1.7618017046350203\n",
      "\n",
      "Consistent Pairwise Comparision Matrix\n"
     ]
    }
   ],
   "source": [
    "ahp_object = RAHP(pair_comp_matrix)\n",
    "ahp_object.run_all()"
   ]
  }
 ],
 "metadata": {
  "kernelspec": {
   "display_name": "Python 3",
   "language": "python",
   "name": "python3"
  },
  "language_info": {
   "codemirror_mode": {
    "name": "ipython",
    "version": 3
   },
   "file_extension": ".py",
   "mimetype": "text/x-python",
   "name": "python",
   "nbconvert_exporter": "python",
   "pygments_lexer": "ipython3",
   "version": "3.8.8"
  }
 },
 "nbformat": 4,
 "nbformat_minor": 5
}
